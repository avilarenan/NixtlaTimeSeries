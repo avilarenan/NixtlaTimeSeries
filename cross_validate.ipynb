{
 "cells": [
  {
   "cell_type": "code",
   "execution_count": null,
   "id": "ecfa4e7f",
   "metadata": {},
   "outputs": [],
   "source": [
    "import logging\n",
    "logging.getLogger('pytorch_lightning').setLevel(logging.ERROR)\n",
    "\n",
    "import warnings\n",
    "warnings.filterwarnings('ignore')\n",
    "\n",
    "from datasets_metadata import ts_metadata\n",
    "import pandas as pd\n",
    "\n",
    "from utilsforecast.plotting import plot_series\n",
    "\n",
    "from utilsforecast.evaluation import evaluate\n",
    "from utilsforecast.losses import mse, mae, rmse, mape"
   ]
  },
  {
   "cell_type": "code",
   "execution_count": null,
   "id": "7a5201ec",
   "metadata": {},
   "outputs": [],
   "source": [
    "dataset_name = \"ETTh1\"\n",
    "exog_list = ts_metadata[dataset_name][\"exog_list\"]\n",
    "target_ts = ts_metadata[dataset_name][\"target_ts\"]\n",
    "freq = ts_metadata[dataset_name][\"freq\"]\n",
    "\n",
    "df = pd.read_csv(f\"./processed_data/{dataset_name}.csv\")\n",
    "df[\"ds\"] = pd.to_datetime(df[\"ds\"])\n",
    "df"
   ]
  },
  {
   "cell_type": "code",
   "execution_count": null,
   "id": "c6bbccc3",
   "metadata": {},
   "outputs": [],
   "source": [
    "from models import get_nf\n",
    "\n",
    "# nf = NeuralForecast.load(path=f'./saved_models/{dataset_name}')\n",
    "\n",
    "horizon = 24\n",
    "\n",
    "nf = get_nf(\n",
    "    horizon=horizon,\n",
    "    freq=freq,\n",
    "    exog_list=exog_list,\n",
    "    num_samples=20,\n",
    "    backend=\"optuna\"\n",
    ")\n",
    "\n",
    "# cv_df = nf.cross_validation(df, n_windows=10, step_size=100)\n",
    "\n",
    "cv_df = nf.cross_validation(df, val_size=1000, test_size=2000, n_windows=None)"
   ]
  },
  {
   "cell_type": "code",
   "execution_count": null,
   "id": "57804cad",
   "metadata": {},
   "outputs": [],
   "source": [
    "cv_df.columns = cv_df.columns.str.replace('-median', '')\n",
    "cv_df"
   ]
  },
  {
   "cell_type": "code",
   "execution_count": null,
   "id": "d6602984",
   "metadata": {},
   "outputs": [],
   "source": [
    "# unique_id_filter = \"OT\"\n",
    "unique_id_filter = \"OT_exogenous_FARM_shaped\"\n",
    "\n",
    "filtered_cv_df = cv_df[cv_df[\"unique_id\"] == unique_id_filter]\n",
    "filtered_df = df[df[\"unique_id\"] == unique_id_filter]\n",
    "\n",
    "filtered_cv_df = filtered_cv_df.reset_index(drop=True)\n",
    "filtered_df = filtered_df.reset_index(drop=True)\n",
    "\n",
    "cutoff_index=0\n",
    "\n",
    "total_cutoffs = len(filtered_cv_df[\"cutoff\"].unique())\n",
    "cutoff_value = filtered_cv_df[\"cutoff\"].unique()[cutoff_index]\n",
    "cutoff_time_index = filtered_df.index[filtered_df[\"ds\"] == cutoff_value].tolist()\n",
    "if len(cutoff_time_index) > 1:\n",
    "    raise Exception(f\"Unexpected cutoff_time_index length value: {len(cutoff_time_index)}. It should be always 1.\")\n",
    "\n",
    "cutoff_time_index = cutoff_time_index[0]\n",
    "lookback = 120\n",
    "horizon = 24\n",
    "\n",
    "plot_series(\n",
    "    filtered_df[cutoff_time_index-120:cutoff_time_index+horizon+1],\n",
    "    filtered_cv_df[filtered_cv_df[\"cutoff\"] == filtered_cv_df[\"cutoff\"].unique()[cutoff_index]].drop(columns=['cutoff', 'y']),\n",
    "    # cv_df.drop(columns=\"cutoff\"),\n",
    "    # max_insample_length= 12 * 10,\n",
    "    ids=[unique_id_filter],\n",
    "    engine=\"plotly\"\n",
    ")"
   ]
  },
  {
   "cell_type": "code",
   "execution_count": null,
   "id": "3e83371a",
   "metadata": {},
   "outputs": [],
   "source": [
    "evaluation_df = evaluate(cv_df.drop(columns='cutoff'), metrics=[mse, mae, rmse, mape])\n",
    "evaluation_df['best_model'] = evaluation_df.drop(columns=['metric', 'unique_id']).idxmin(axis=1)\n",
    "evaluation_df.to_csv(f\"./results/{dataset_name}\")\n",
    "evaluation_df"
   ]
  },
  {
   "cell_type": "code",
   "execution_count": null,
   "id": "ee9765a3",
   "metadata": {},
   "outputs": [],
   "source": [
    "summary_df = evaluation_df.groupby(['metric', 'best_model']).size().sort_values().to_frame()\n",
    "summary_df = summary_df.reset_index()\n",
    "summary_df.columns = ['metric', 'model', 'nr. of unique_ids']\n",
    "summary_df"
   ]
  },
  {
   "cell_type": "code",
   "execution_count": null,
   "id": "47098eab",
   "metadata": {},
   "outputs": [],
   "source": [
    "nf.save( \n",
    "    path=f\"./saved_models/{dataset_name}\",\n",
    "    model_index=None, \n",
    "    overwrite=True,\n",
    "    save_dataset=True\n",
    ")"
   ]
  }
 ],
 "metadata": {
  "kernelspec": {
   "display_name": "master_realm",
   "language": "python",
   "name": "python3"
  },
  "language_info": {
   "codemirror_mode": {
    "name": "ipython",
    "version": 3
   },
   "file_extension": ".py",
   "mimetype": "text/x-python",
   "name": "python",
   "nbconvert_exporter": "python",
   "pygments_lexer": "ipython3",
   "version": "3.12.3"
  }
 },
 "nbformat": 4,
 "nbformat_minor": 5
}
