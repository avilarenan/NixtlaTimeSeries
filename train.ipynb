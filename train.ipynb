{
 "cells": [
  {
   "cell_type": "code",
   "execution_count": null,
   "metadata": {},
   "outputs": [],
   "source": [
    "from datasetsforecast.long_horizon import LongHorizon\n",
    "import pandas as pd\n",
    "\n",
    "Y_df, X_df, S_df = LongHorizon.load(directory='data', group='ETTh1')\n",
    "\n",
    "Y_df[\"ds\"] = pd.to_datetime(Y_df[\"ds\"])\n",
    "X_df[\"ds\"] = pd.to_datetime(X_df[\"ds\"])\n",
    "\n",
    "df = pd.concat([Y_df[[\"y\"]], X_df], axis=1)\n",
    "df"
   ]
  },
  {
   "cell_type": "code",
   "execution_count": null,
   "metadata": {},
   "outputs": [],
   "source": [
    "import logging\n",
    "\n",
    "from neuralforecast import NeuralForecast\n",
    "from neuralforecast.models import LSTM, NHITS, RNN, TFT\n",
    "from neuralforecast.auto import AutoLSTM, AutoNHITS, AutoRNN, AutoTFT\n",
    "\n",
    "logging.getLogger('pytorch_lightning').setLevel(logging.ERROR)"
   ]
  },
  {
   "cell_type": "code",
   "execution_count": null,
   "metadata": {},
   "outputs": [],
   "source": [
    "horizon = 12\n",
    "\n",
    "exog_list = ['ex_1', 'ex_2', 'ex_3', 'ex_4']\n",
    "\n",
    "# Try different hyperparmeters to improve accuracy.\n",
    "models = [\n",
    "      AutoLSTM(\n",
    "            h=horizon,\n",
    "            backend='optuna',\n",
    "            config=AutoLSTM.get_default_config(h=horizon, backend='optuna')\n",
    "      ),\n",
    "      AutoNHITS(\n",
    "            h=horizon,\n",
    "            backend='optuna',\n",
    "            config=AutoNHITS.get_default_config(h=horizon, backend='optuna')\n",
    "      ),\n",
    "      AutoTFT(\n",
    "            h=horizon,\n",
    "            backend='optuna',\n",
    "            config=AutoTFT.get_default_config(h=horizon, backend='optuna')\n",
    "      )\n",
    "]\n",
    "nf = NeuralForecast(models=models, freq='h')\n",
    "nf.fit(df=df)"
   ]
  },
  {
   "cell_type": "code",
   "execution_count": null,
   "metadata": {},
   "outputs": [],
   "source": [
    "results = nf.models[0].results.trials_dataframe()\n",
    "results"
   ]
  },
  {
   "cell_type": "code",
   "execution_count": null,
   "metadata": {},
   "outputs": [],
   "source": []
  },
  {
   "cell_type": "code",
   "execution_count": null,
   "metadata": {},
   "outputs": [],
   "source": [
    "nf.save(\n",
    "    path=\"./saved_models/initial_run\",\n",
    "    model_index=None, \n",
    "    overwrite=True,\n",
    "    save_dataset=True\n",
    ")"
   ]
  }
 ],
 "metadata": {
  "kernelspec": {
   "display_name": "master_realm",
   "language": "python",
   "name": "python3"
  },
  "language_info": {
   "codemirror_mode": {
    "name": "ipython",
    "version": 3
   },
   "file_extension": ".py",
   "mimetype": "text/x-python",
   "name": "python",
   "nbconvert_exporter": "python",
   "pygments_lexer": "ipython3",
   "version": "3.12.3"
  }
 },
 "nbformat": 4,
 "nbformat_minor": 2
}
