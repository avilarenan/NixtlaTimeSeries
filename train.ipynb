{
 "cells": [
  {
   "cell_type": "code",
   "execution_count": null,
   "metadata": {},
   "outputs": [],
   "source": [
    "import logging\n",
    "import pandas as pd\n",
    "\n",
    "from neuralforecast import NeuralForecast\n",
    "from neuralforecast.auto import AutoMLP, AutoLSTM, AutoNHITS, AutoTFT, AutoNBEATSx, AutoTiDE, AutoTSMixerx, AutoBiTCN, AutoDeepNPTS\n",
    "\n",
    "logging.getLogger('pytorch_lightning').setLevel(logging.ERROR)\n",
    "\n",
    "import warnings\n",
    "warnings.filterwarnings('ignore')\n",
    "\n",
    "from datasets_metadata import ts_metadata\n",
    "from models import get_nf"
   ]
  },
  {
   "cell_type": "code",
   "execution_count": null,
   "metadata": {},
   "outputs": [],
   "source": [
    "horizon = 24\n",
    "\n",
    "dataset_name = \"ETTh1\" # IMPORTANT: Unique experiment identifier\n",
    "exog_list = ts_metadata[dataset_name][\"exog_list\"]\n",
    "target_ts = ts_metadata[dataset_name][\"target_ts\"]\n",
    "freq = ts_metadata[dataset_name][\"freq\"]\n",
    "\n",
    "df = pd.read_csv(f\"./processed_data/{dataset_name}.csv\")\n",
    "df[\"ds\"] = pd.to_datetime(df[\"ds\"])\n",
    "df"
   ]
  },
  {
   "cell_type": "code",
   "execution_count": null,
   "metadata": {},
   "outputs": [],
   "source": [
    "num_samples = 5\n",
    "backend = \"optuna\"\n",
    "\n",
    "nf = get_nf(\n",
    "    horizon=24,\n",
    "    freq=freq,\n",
    "    exog_list=exog_list,\n",
    "    num_samples=5,\n",
    "    backend=\"optuna\"\n",
    ")\n",
    "\n",
    "nf.fit(df=df, val_size=1000)"
   ]
  },
  {
   "cell_type": "code",
   "execution_count": null,
   "metadata": {},
   "outputs": [],
   "source": [
    "results = nf.models[0].results.trials_dataframe()\n",
    "results"
   ]
  },
  {
   "cell_type": "code",
   "execution_count": null,
   "metadata": {},
   "outputs": [],
   "source": [
    "nf.save( \n",
    "    path=f\"./saved_models/{dataset_name}\",\n",
    "    model_index=None, \n",
    "    overwrite=True,\n",
    "    save_dataset=True\n",
    ")"
   ]
  }
 ],
 "metadata": {
  "kernelspec": {
   "display_name": "master_realm",
   "language": "python",
   "name": "python3"
  },
  "language_info": {
   "codemirror_mode": {
    "name": "ipython",
    "version": 3
   },
   "file_extension": ".py",
   "mimetype": "text/x-python",
   "name": "python",
   "nbconvert_exporter": "python",
   "pygments_lexer": "ipython3",
   "version": "3.12.3"
  }
 },
 "nbformat": 4,
 "nbformat_minor": 2
}
