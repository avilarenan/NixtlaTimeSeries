{
 "cells": [
  {
   "cell_type": "code",
   "execution_count": null,
   "id": "d64df2f7",
   "metadata": {},
   "outputs": [],
   "source": [
    "from datasetsforecast.long_horizon2 import LongHorizon2\n",
    "import pandas as pd\n",
    "pd.options.plotting.backend = \"plotly\"\n",
    "import warnings\n",
    "warnings.filterwarnings('ignore')\n",
    "\n",
    "from datasets_metadata import ts_metadata"
   ]
  },
  {
   "cell_type": "code",
   "execution_count": null,
   "id": "b0c4eb4f",
   "metadata": {},
   "outputs": [],
   "source": [
    "dataset_name = \"ETTm2\"\n",
    "Y_df = LongHorizon2.load(directory='data', group=dataset_name)\n",
    "target_ts = ts_metadata[dataset_name][\"target_ts\"]\n",
    "exog_list = ts_metadata[dataset_name][\"exog_list\"]"
   ]
  },
  {
   "cell_type": "code",
   "execution_count": null,
   "id": "aecdd0b6",
   "metadata": {},
   "outputs": [],
   "source": [
    "Y_df[\"ds\"] = pd.to_datetime(Y_df[\"ds\"])\n",
    "Y_df = Y_df.set_index(\"ds\")\n",
    "\n",
    "# Pivotting original dataset in order to consider other series as exogenous\n",
    "df_raw = Y_df[Y_df[\"unique_id\"] == target_ts]\n",
    "for item in Y_df[\"unique_id\"].unique():\n",
    "    if item == target_ts:\n",
    "        continue\n",
    "    df_raw[item] = Y_df[Y_df[\"unique_id\"] == item][\"y\"]\n",
    "df_raw = df_raw.reset_index()\n",
    "df_raw = df_raw.drop(\"index\", axis=1)\n",
    "df_raw[\"unique_id\"] = f\"{target_ts}_raw\"\n",
    "\n",
    "df_raw"
   ]
  },
  {
   "cell_type": "code",
   "execution_count": null,
   "id": "862fe978",
   "metadata": {},
   "outputs": [],
   "source": [
    "df_raw.drop(\"unique_id\", axis=1).set_index(\"ds\").plot()"
   ]
  },
  {
   "cell_type": "code",
   "execution_count": null,
   "id": "db77b85f",
   "metadata": {},
   "outputs": [],
   "source": [
    "# FARM SHAPING\n",
    "\n",
    "from pyfarm import farm\n",
    "\n",
    "target_ts = \"y\"\n",
    "df_shaped = df_raw.copy()\n",
    "\n",
    "for feature in exog_list:\n",
    "    qts_shaped = farm(refTS=df_raw[target_ts].values, qryTS=df_raw[feature].values, ff_align=False)[\"qts_shaped\"]\n",
    "    df_shaped[feature] = qts_shaped\n",
    "\n",
    "df_shaped[\"unique_id\"] = f\"{target_ts}_exogenous_FARM_shaped\"\n",
    "df_shaped"
   ]
  },
  {
   "cell_type": "code",
   "execution_count": null,
   "id": "e0f7b1ae",
   "metadata": {},
   "outputs": [],
   "source": [
    "df_shaped.drop(\"unique_id\", axis=1).set_index(\"ds\").plot()"
   ]
  },
  {
   "cell_type": "code",
   "execution_count": null,
   "id": "d237c4c2",
   "metadata": {},
   "outputs": [],
   "source": [
    "df = pd.concat([df_raw, df_shaped])\n",
    "df"
   ]
  },
  {
   "cell_type": "code",
   "execution_count": null,
   "id": "6c9c8dcc",
   "metadata": {},
   "outputs": [],
   "source": [
    "df.to_csv(f\"./processed_data/{dataset_name}.csv\", index=False)"
   ]
  }
 ],
 "metadata": {
  "kernelspec": {
   "display_name": ".venv",
   "language": "python",
   "name": "python3"
  },
  "language_info": {
   "codemirror_mode": {
    "name": "ipython",
    "version": 3
   },
   "file_extension": ".py",
   "mimetype": "text/x-python",
   "name": "python",
   "nbconvert_exporter": "python",
   "pygments_lexer": "ipython3",
   "version": "3.12.10"
  }
 },
 "nbformat": 4,
 "nbformat_minor": 5
}
